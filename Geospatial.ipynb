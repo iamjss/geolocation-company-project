{
 "cells": [
  {
   "cell_type": "code",
   "execution_count": 1,
   "metadata": {},
   "outputs": [],
   "source": [
    "from pymongo import MongoClient\n",
    "import numpy as np\n",
    "import pandas as pd\n",
    "import folium\n",
    "\n",
    "client = MongoClient ('localhost', 27017)\n",
    "db = client['companies']"
   ]
  },
  {
   "cell_type": "code",
   "execution_count": 2,
   "metadata": {},
   "outputs": [],
   "source": [
    "def geoquery(latitude, longitude):\n",
    "    df = pd.DataFrame(db.companies_clean.find({\n",
    "        \"geopoint\": {\n",
    "         \"$near\": {\n",
    "           \"$geometry\": {\n",
    "              \"type\": \"Point\" ,\n",
    "              \"coordinates\":[longitude,latitude]\n",
    "           },\n",
    "           \"$maxDistance\": 1000, \n",
    "         }\n",
    "        }}))\n",
    "    return df"
   ]
  },
  {
   "cell_type": "markdown",
   "metadata": {},
   "source": [
    "Intentamos, con un bucle, que se generen una agrupación de empresas según su localización (en 1km) y si hay un mayor número de Startups que Big Companies."
   ]
  },
  {
   "cell_type": "code",
   "execution_count": 3,
   "metadata": {},
   "outputs": [],
   "source": [
    "a = pd.DataFrame(db.companies_clean.find())\n",
    "\n",
    "clusters = []\n",
    "for i in range(a.shape[0]):\n",
    "    cluster = geoquery(a.latitude[i],a.longitude[i])\n",
    "    if cluster['type_company'].value_counts().shape[0] > 1: \n",
    "        if cluster['type_company'].value_counts()['Big Company'] < cluster['type_company'].value_counts()['Startup']:\n",
    "            clusters.append(cluster)"
   ]
  },
  {
   "cell_type": "markdown",
   "metadata": {},
   "source": [
    "Creamos otro bucle para imprimir los diferentes clusters y visualizar en un mapa los diferentes puntos."
   ]
  },
  {
   "cell_type": "code",
   "execution_count": 4,
   "metadata": {},
   "outputs": [
    {
     "name": "stdout",
     "output_type": "stream",
     "text": [
      "(3, 12)\n"
     ]
    },
    {
     "data": {
      "text/html": [
       "<div>\n",
       "<style scoped>\n",
       "    .dataframe tbody tr th:only-of-type {\n",
       "        vertical-align: middle;\n",
       "    }\n",
       "\n",
       "    .dataframe tbody tr th {\n",
       "        vertical-align: top;\n",
       "    }\n",
       "\n",
       "    .dataframe thead th {\n",
       "        text-align: right;\n",
       "    }\n",
       "</style>\n",
       "<table border=\"1\" class=\"dataframe\">\n",
       "  <thead>\n",
       "    <tr style=\"text-align: right;\">\n",
       "      <th></th>\n",
       "      <th>_id</th>\n",
       "      <th>address</th>\n",
       "      <th>category</th>\n",
       "      <th>city</th>\n",
       "      <th>country</th>\n",
       "      <th>founded_year</th>\n",
       "      <th>geopoint</th>\n",
       "      <th>latitude</th>\n",
       "      <th>longitude</th>\n",
       "      <th>name</th>\n",
       "      <th>number_employees</th>\n",
       "      <th>type_company</th>\n",
       "    </tr>\n",
       "  </thead>\n",
       "  <tbody>\n",
       "    <tr>\n",
       "      <th>0</th>\n",
       "      <td>5cd96bd1f0495c0f4aa9382d</td>\n",
       "      <td>48 Boulevard des Batignolles</td>\n",
       "      <td>software</td>\n",
       "      <td>Paris</td>\n",
       "      <td>FRA</td>\n",
       "      <td>2002</td>\n",
       "      <td>{'type': 'Point', 'coordinates': [2.322551, 48...</td>\n",
       "      <td>48.882647</td>\n",
       "      <td>2.322551</td>\n",
       "      <td>Agematis</td>\n",
       "      <td>40</td>\n",
       "      <td>Big Company</td>\n",
       "    </tr>\n",
       "    <tr>\n",
       "      <th>1</th>\n",
       "      <td>5cd96bd1f0495c0f4aa938f6</td>\n",
       "      <td>56 rue de Londres</td>\n",
       "      <td>web</td>\n",
       "      <td>Paris</td>\n",
       "      <td>FRA</td>\n",
       "      <td>2008</td>\n",
       "      <td>{'type': 'Point', 'coordinates': [2.3249952, 4...</td>\n",
       "      <td>48.878572</td>\n",
       "      <td>2.324995</td>\n",
       "      <td>Orinea</td>\n",
       "      <td>5</td>\n",
       "      <td>Startup</td>\n",
       "    </tr>\n",
       "    <tr>\n",
       "      <th>2</th>\n",
       "      <td>5cd96bd1f0495c0f4aa938fa</td>\n",
       "      <td>56 rue de Londres</td>\n",
       "      <td>web</td>\n",
       "      <td>Paris</td>\n",
       "      <td>FRA</td>\n",
       "      <td>2008</td>\n",
       "      <td>{'type': 'Point', 'coordinates': [2.3249952, 4...</td>\n",
       "      <td>48.878572</td>\n",
       "      <td>2.324995</td>\n",
       "      <td>Orinea</td>\n",
       "      <td>5</td>\n",
       "      <td>Startup</td>\n",
       "    </tr>\n",
       "  </tbody>\n",
       "</table>\n",
       "</div>"
      ],
      "text/plain": [
       "                        _id                       address  category   city  \\\n",
       "0  5cd96bd1f0495c0f4aa9382d  48 Boulevard des Batignolles  software  Paris   \n",
       "1  5cd96bd1f0495c0f4aa938f6             56 rue de Londres       web  Paris   \n",
       "2  5cd96bd1f0495c0f4aa938fa             56 rue de Londres       web  Paris   \n",
       "\n",
       "  country  founded_year                                           geopoint  \\\n",
       "0     FRA          2002  {'type': 'Point', 'coordinates': [2.322551, 48...   \n",
       "1     FRA          2008  {'type': 'Point', 'coordinates': [2.3249952, 4...   \n",
       "2     FRA          2008  {'type': 'Point', 'coordinates': [2.3249952, 4...   \n",
       "\n",
       "    latitude  longitude      name  number_employees type_company  \n",
       "0  48.882647   2.322551  Agematis                40  Big Company  \n",
       "1  48.878572   2.324995    Orinea                 5      Startup  \n",
       "2  48.878572   2.324995    Orinea                 5      Startup  "
      ]
     },
     "metadata": {},
     "output_type": "display_data"
    },
    {
     "name": "stdout",
     "output_type": "stream",
     "text": [
      "(3, 12)\n"
     ]
    },
    {
     "data": {
      "text/html": [
       "<div>\n",
       "<style scoped>\n",
       "    .dataframe tbody tr th:only-of-type {\n",
       "        vertical-align: middle;\n",
       "    }\n",
       "\n",
       "    .dataframe tbody tr th {\n",
       "        vertical-align: top;\n",
       "    }\n",
       "\n",
       "    .dataframe thead th {\n",
       "        text-align: right;\n",
       "    }\n",
       "</style>\n",
       "<table border=\"1\" class=\"dataframe\">\n",
       "  <thead>\n",
       "    <tr style=\"text-align: right;\">\n",
       "      <th></th>\n",
       "      <th>_id</th>\n",
       "      <th>address</th>\n",
       "      <th>category</th>\n",
       "      <th>city</th>\n",
       "      <th>country</th>\n",
       "      <th>founded_year</th>\n",
       "      <th>geopoint</th>\n",
       "      <th>latitude</th>\n",
       "      <th>longitude</th>\n",
       "      <th>name</th>\n",
       "      <th>number_employees</th>\n",
       "      <th>type_company</th>\n",
       "    </tr>\n",
       "  </thead>\n",
       "  <tbody>\n",
       "    <tr>\n",
       "      <th>0</th>\n",
       "      <td>5cd96bd1f0495c0f4aa93864</td>\n",
       "      <td>Parkshott House</td>\n",
       "      <td>software</td>\n",
       "      <td>Richmond</td>\n",
       "      <td>GBR</td>\n",
       "      <td>2008</td>\n",
       "      <td>{'type': 'Point', 'coordinates': [-6.252923, 5...</td>\n",
       "      <td>53.335194</td>\n",
       "      <td>-6.252923</td>\n",
       "      <td>EventElephant</td>\n",
       "      <td>20</td>\n",
       "      <td>Startup</td>\n",
       "    </tr>\n",
       "    <tr>\n",
       "      <th>1</th>\n",
       "      <td>5cd96bd1f0495c0f4aa938d7</td>\n",
       "      <td>8 rue Victor Massé</td>\n",
       "      <td>software</td>\n",
       "      <td>Paris</td>\n",
       "      <td>FRA</td>\n",
       "      <td>2009</td>\n",
       "      <td>{'type': 'Point', 'coordinates': [-6.2493777, ...</td>\n",
       "      <td>53.332814</td>\n",
       "      <td>-6.249378</td>\n",
       "      <td>ftopia</td>\n",
       "      <td>7</td>\n",
       "      <td>Startup</td>\n",
       "    </tr>\n",
       "    <tr>\n",
       "      <th>2</th>\n",
       "      <td>5cd96bd1f0495c0f4aa93844</td>\n",
       "      <td>19 South William Street</td>\n",
       "      <td>web</td>\n",
       "      <td>Dublin</td>\n",
       "      <td>IRL</td>\n",
       "      <td>2006</td>\n",
       "      <td>{'type': 'Point', 'coordinates': [-6.262682, 5...</td>\n",
       "      <td>53.341987</td>\n",
       "      <td>-6.262682</td>\n",
       "      <td>muzu tv</td>\n",
       "      <td>30</td>\n",
       "      <td>Big Company</td>\n",
       "    </tr>\n",
       "  </tbody>\n",
       "</table>\n",
       "</div>"
      ],
      "text/plain": [
       "                        _id                  address  category      city  \\\n",
       "0  5cd96bd1f0495c0f4aa93864          Parkshott House  software  Richmond   \n",
       "1  5cd96bd1f0495c0f4aa938d7       8 rue Victor Massé  software     Paris   \n",
       "2  5cd96bd1f0495c0f4aa93844  19 South William Street       web    Dublin   \n",
       "\n",
       "  country  founded_year                                           geopoint  \\\n",
       "0     GBR          2008  {'type': 'Point', 'coordinates': [-6.252923, 5...   \n",
       "1     FRA          2009  {'type': 'Point', 'coordinates': [-6.2493777, ...   \n",
       "2     IRL          2006  {'type': 'Point', 'coordinates': [-6.262682, 5...   \n",
       "\n",
       "    latitude  longitude           name  number_employees type_company  \n",
       "0  53.335194  -6.252923  EventElephant                20      Startup  \n",
       "1  53.332814  -6.249378         ftopia                 7      Startup  \n",
       "2  53.341987  -6.262682        muzu tv                30  Big Company  "
      ]
     },
     "metadata": {},
     "output_type": "display_data"
    },
    {
     "name": "stdout",
     "output_type": "stream",
     "text": [
      "(4, 12)\n"
     ]
    },
    {
     "data": {
      "text/html": [
       "<div>\n",
       "<style scoped>\n",
       "    .dataframe tbody tr th:only-of-type {\n",
       "        vertical-align: middle;\n",
       "    }\n",
       "\n",
       "    .dataframe tbody tr th {\n",
       "        vertical-align: top;\n",
       "    }\n",
       "\n",
       "    .dataframe thead th {\n",
       "        text-align: right;\n",
       "    }\n",
       "</style>\n",
       "<table border=\"1\" class=\"dataframe\">\n",
       "  <thead>\n",
       "    <tr style=\"text-align: right;\">\n",
       "      <th></th>\n",
       "      <th>_id</th>\n",
       "      <th>address</th>\n",
       "      <th>category</th>\n",
       "      <th>city</th>\n",
       "      <th>country</th>\n",
       "      <th>founded_year</th>\n",
       "      <th>geopoint</th>\n",
       "      <th>latitude</th>\n",
       "      <th>longitude</th>\n",
       "      <th>name</th>\n",
       "      <th>number_employees</th>\n",
       "      <th>type_company</th>\n",
       "    </tr>\n",
       "  </thead>\n",
       "  <tbody>\n",
       "    <tr>\n",
       "      <th>0</th>\n",
       "      <td>5cd96bd1f0495c0f4aa938f6</td>\n",
       "      <td>56 rue de Londres</td>\n",
       "      <td>web</td>\n",
       "      <td>Paris</td>\n",
       "      <td>FRA</td>\n",
       "      <td>2008</td>\n",
       "      <td>{'type': 'Point', 'coordinates': [2.3249952, 4...</td>\n",
       "      <td>48.878572</td>\n",
       "      <td>2.324995</td>\n",
       "      <td>Orinea</td>\n",
       "      <td>5</td>\n",
       "      <td>Startup</td>\n",
       "    </tr>\n",
       "    <tr>\n",
       "      <th>1</th>\n",
       "      <td>5cd96bd1f0495c0f4aa938fa</td>\n",
       "      <td>56 rue de Londres</td>\n",
       "      <td>web</td>\n",
       "      <td>Paris</td>\n",
       "      <td>FRA</td>\n",
       "      <td>2008</td>\n",
       "      <td>{'type': 'Point', 'coordinates': [2.3249952, 4...</td>\n",
       "      <td>48.878572</td>\n",
       "      <td>2.324995</td>\n",
       "      <td>Orinea</td>\n",
       "      <td>5</td>\n",
       "      <td>Startup</td>\n",
       "    </tr>\n",
       "    <tr>\n",
       "      <th>2</th>\n",
       "      <td>5cd96bd1f0495c0f4aa9382d</td>\n",
       "      <td>48 Boulevard des Batignolles</td>\n",
       "      <td>software</td>\n",
       "      <td>Paris</td>\n",
       "      <td>FRA</td>\n",
       "      <td>2002</td>\n",
       "      <td>{'type': 'Point', 'coordinates': [2.322551, 48...</td>\n",
       "      <td>48.882647</td>\n",
       "      <td>2.322551</td>\n",
       "      <td>Agematis</td>\n",
       "      <td>40</td>\n",
       "      <td>Big Company</td>\n",
       "    </tr>\n",
       "    <tr>\n",
       "      <th>3</th>\n",
       "      <td>5cd96bd1f0495c0f4aa93946</td>\n",
       "      <td>34, bld de Clichy</td>\n",
       "      <td>web</td>\n",
       "      <td>Paris</td>\n",
       "      <td>FRA</td>\n",
       "      <td>2009</td>\n",
       "      <td>{'type': 'Point', 'coordinates': [2.336453, 48...</td>\n",
       "      <td>48.882769</td>\n",
       "      <td>2.336453</td>\n",
       "      <td>YesOrNow</td>\n",
       "      <td>3</td>\n",
       "      <td>Startup</td>\n",
       "    </tr>\n",
       "  </tbody>\n",
       "</table>\n",
       "</div>"
      ],
      "text/plain": [
       "                        _id                       address  category   city  \\\n",
       "0  5cd96bd1f0495c0f4aa938f6             56 rue de Londres       web  Paris   \n",
       "1  5cd96bd1f0495c0f4aa938fa             56 rue de Londres       web  Paris   \n",
       "2  5cd96bd1f0495c0f4aa9382d  48 Boulevard des Batignolles  software  Paris   \n",
       "3  5cd96bd1f0495c0f4aa93946             34, bld de Clichy       web  Paris   \n",
       "\n",
       "  country  founded_year                                           geopoint  \\\n",
       "0     FRA          2008  {'type': 'Point', 'coordinates': [2.3249952, 4...   \n",
       "1     FRA          2008  {'type': 'Point', 'coordinates': [2.3249952, 4...   \n",
       "2     FRA          2002  {'type': 'Point', 'coordinates': [2.322551, 48...   \n",
       "3     FRA          2009  {'type': 'Point', 'coordinates': [2.336453, 48...   \n",
       "\n",
       "    latitude  longitude      name  number_employees type_company  \n",
       "0  48.878572   2.324995    Orinea                 5      Startup  \n",
       "1  48.878572   2.324995    Orinea                 5      Startup  \n",
       "2  48.882647   2.322551  Agematis                40  Big Company  \n",
       "3  48.882769   2.336453  YesOrNow                 3      Startup  "
      ]
     },
     "metadata": {},
     "output_type": "display_data"
    },
    {
     "name": "stdout",
     "output_type": "stream",
     "text": [
      "(4, 12)\n"
     ]
    },
    {
     "data": {
      "text/html": [
       "<div>\n",
       "<style scoped>\n",
       "    .dataframe tbody tr th:only-of-type {\n",
       "        vertical-align: middle;\n",
       "    }\n",
       "\n",
       "    .dataframe tbody tr th {\n",
       "        vertical-align: top;\n",
       "    }\n",
       "\n",
       "    .dataframe thead th {\n",
       "        text-align: right;\n",
       "    }\n",
       "</style>\n",
       "<table border=\"1\" class=\"dataframe\">\n",
       "  <thead>\n",
       "    <tr style=\"text-align: right;\">\n",
       "      <th></th>\n",
       "      <th>_id</th>\n",
       "      <th>address</th>\n",
       "      <th>category</th>\n",
       "      <th>city</th>\n",
       "      <th>country</th>\n",
       "      <th>founded_year</th>\n",
       "      <th>geopoint</th>\n",
       "      <th>latitude</th>\n",
       "      <th>longitude</th>\n",
       "      <th>name</th>\n",
       "      <th>number_employees</th>\n",
       "      <th>type_company</th>\n",
       "    </tr>\n",
       "  </thead>\n",
       "  <tbody>\n",
       "    <tr>\n",
       "      <th>0</th>\n",
       "      <td>5cd96bd1f0495c0f4aa938f6</td>\n",
       "      <td>56 rue de Londres</td>\n",
       "      <td>web</td>\n",
       "      <td>Paris</td>\n",
       "      <td>FRA</td>\n",
       "      <td>2008</td>\n",
       "      <td>{'type': 'Point', 'coordinates': [2.3249952, 4...</td>\n",
       "      <td>48.878572</td>\n",
       "      <td>2.324995</td>\n",
       "      <td>Orinea</td>\n",
       "      <td>5</td>\n",
       "      <td>Startup</td>\n",
       "    </tr>\n",
       "    <tr>\n",
       "      <th>1</th>\n",
       "      <td>5cd96bd1f0495c0f4aa938fa</td>\n",
       "      <td>56 rue de Londres</td>\n",
       "      <td>web</td>\n",
       "      <td>Paris</td>\n",
       "      <td>FRA</td>\n",
       "      <td>2008</td>\n",
       "      <td>{'type': 'Point', 'coordinates': [2.3249952, 4...</td>\n",
       "      <td>48.878572</td>\n",
       "      <td>2.324995</td>\n",
       "      <td>Orinea</td>\n",
       "      <td>5</td>\n",
       "      <td>Startup</td>\n",
       "    </tr>\n",
       "    <tr>\n",
       "      <th>2</th>\n",
       "      <td>5cd96bd1f0495c0f4aa9382d</td>\n",
       "      <td>48 Boulevard des Batignolles</td>\n",
       "      <td>software</td>\n",
       "      <td>Paris</td>\n",
       "      <td>FRA</td>\n",
       "      <td>2002</td>\n",
       "      <td>{'type': 'Point', 'coordinates': [2.322551, 48...</td>\n",
       "      <td>48.882647</td>\n",
       "      <td>2.322551</td>\n",
       "      <td>Agematis</td>\n",
       "      <td>40</td>\n",
       "      <td>Big Company</td>\n",
       "    </tr>\n",
       "    <tr>\n",
       "      <th>3</th>\n",
       "      <td>5cd96bd1f0495c0f4aa93946</td>\n",
       "      <td>34, bld de Clichy</td>\n",
       "      <td>web</td>\n",
       "      <td>Paris</td>\n",
       "      <td>FRA</td>\n",
       "      <td>2009</td>\n",
       "      <td>{'type': 'Point', 'coordinates': [2.336453, 48...</td>\n",
       "      <td>48.882769</td>\n",
       "      <td>2.336453</td>\n",
       "      <td>YesOrNow</td>\n",
       "      <td>3</td>\n",
       "      <td>Startup</td>\n",
       "    </tr>\n",
       "  </tbody>\n",
       "</table>\n",
       "</div>"
      ],
      "text/plain": [
       "                        _id                       address  category   city  \\\n",
       "0  5cd96bd1f0495c0f4aa938f6             56 rue de Londres       web  Paris   \n",
       "1  5cd96bd1f0495c0f4aa938fa             56 rue de Londres       web  Paris   \n",
       "2  5cd96bd1f0495c0f4aa9382d  48 Boulevard des Batignolles  software  Paris   \n",
       "3  5cd96bd1f0495c0f4aa93946             34, bld de Clichy       web  Paris   \n",
       "\n",
       "  country  founded_year                                           geopoint  \\\n",
       "0     FRA          2008  {'type': 'Point', 'coordinates': [2.3249952, 4...   \n",
       "1     FRA          2008  {'type': 'Point', 'coordinates': [2.3249952, 4...   \n",
       "2     FRA          2002  {'type': 'Point', 'coordinates': [2.322551, 48...   \n",
       "3     FRA          2009  {'type': 'Point', 'coordinates': [2.336453, 48...   \n",
       "\n",
       "    latitude  longitude      name  number_employees type_company  \n",
       "0  48.878572   2.324995    Orinea                 5      Startup  \n",
       "1  48.878572   2.324995    Orinea                 5      Startup  \n",
       "2  48.882647   2.322551  Agematis                40  Big Company  \n",
       "3  48.882769   2.336453  YesOrNow                 3      Startup  "
      ]
     },
     "metadata": {},
     "output_type": "display_data"
    },
    {
     "name": "stdout",
     "output_type": "stream",
     "text": [
      "(3, 12)\n"
     ]
    },
    {
     "data": {
      "text/html": [
       "<div>\n",
       "<style scoped>\n",
       "    .dataframe tbody tr th:only-of-type {\n",
       "        vertical-align: middle;\n",
       "    }\n",
       "\n",
       "    .dataframe tbody tr th {\n",
       "        vertical-align: top;\n",
       "    }\n",
       "\n",
       "    .dataframe thead th {\n",
       "        text-align: right;\n",
       "    }\n",
       "</style>\n",
       "<table border=\"1\" class=\"dataframe\">\n",
       "  <thead>\n",
       "    <tr style=\"text-align: right;\">\n",
       "      <th></th>\n",
       "      <th>_id</th>\n",
       "      <th>address</th>\n",
       "      <th>category</th>\n",
       "      <th>city</th>\n",
       "      <th>country</th>\n",
       "      <th>founded_year</th>\n",
       "      <th>geopoint</th>\n",
       "      <th>latitude</th>\n",
       "      <th>longitude</th>\n",
       "      <th>name</th>\n",
       "      <th>number_employees</th>\n",
       "      <th>type_company</th>\n",
       "    </tr>\n",
       "  </thead>\n",
       "  <tbody>\n",
       "    <tr>\n",
       "      <th>0</th>\n",
       "      <td>5cd96bd1f0495c0f4aa93917</td>\n",
       "      <td>Keizersgracht 203</td>\n",
       "      <td>web</td>\n",
       "      <td>Amsterdam</td>\n",
       "      <td>NLD</td>\n",
       "      <td>2008</td>\n",
       "      <td>{'type': 'Point', 'coordinates': [4.8852747, 5...</td>\n",
       "      <td>52.373559</td>\n",
       "      <td>4.885275</td>\n",
       "      <td>Kimengi</td>\n",
       "      <td>5</td>\n",
       "      <td>Startup</td>\n",
       "    </tr>\n",
       "    <tr>\n",
       "      <th>1</th>\n",
       "      <td>5cd96bd1f0495c0f4aa93968</td>\n",
       "      <td>Hartenstraat 5A</td>\n",
       "      <td>software</td>\n",
       "      <td>Amsterdam</td>\n",
       "      <td>NLD</td>\n",
       "      <td>2008</td>\n",
       "      <td>{'type': 'Point', 'coordinates': [4.8864897, 5...</td>\n",
       "      <td>52.372256</td>\n",
       "      <td>4.886490</td>\n",
       "      <td>Mapplr</td>\n",
       "      <td>2</td>\n",
       "      <td>Startup</td>\n",
       "    </tr>\n",
       "    <tr>\n",
       "      <th>2</th>\n",
       "      <td>5cd96bd1f0495c0f4aa938c0</td>\n",
       "      <td>Damrak 70, 254</td>\n",
       "      <td>web</td>\n",
       "      <td>Amsterdam</td>\n",
       "      <td>NLD</td>\n",
       "      <td>2007</td>\n",
       "      <td>{'type': 'Point', 'coordinates': [4.8948623, 5...</td>\n",
       "      <td>52.374523</td>\n",
       "      <td>4.894862</td>\n",
       "      <td>Wakoopa</td>\n",
       "      <td>8</td>\n",
       "      <td>Big Company</td>\n",
       "    </tr>\n",
       "  </tbody>\n",
       "</table>\n",
       "</div>"
      ],
      "text/plain": [
       "                        _id            address  category       city country  \\\n",
       "0  5cd96bd1f0495c0f4aa93917  Keizersgracht 203       web  Amsterdam     NLD   \n",
       "1  5cd96bd1f0495c0f4aa93968    Hartenstraat 5A  software  Amsterdam     NLD   \n",
       "2  5cd96bd1f0495c0f4aa938c0     Damrak 70, 254       web  Amsterdam     NLD   \n",
       "\n",
       "   founded_year                                           geopoint   latitude  \\\n",
       "0          2008  {'type': 'Point', 'coordinates': [4.8852747, 5...  52.373559   \n",
       "1          2008  {'type': 'Point', 'coordinates': [4.8864897, 5...  52.372256   \n",
       "2          2007  {'type': 'Point', 'coordinates': [4.8948623, 5...  52.374523   \n",
       "\n",
       "   longitude     name  number_employees type_company  \n",
       "0   4.885275  Kimengi                 5      Startup  \n",
       "1   4.886490   Mapplr                 2      Startup  \n",
       "2   4.894862  Wakoopa                 8  Big Company  "
      ]
     },
     "metadata": {},
     "output_type": "display_data"
    }
   ],
   "source": [
    "for cluster in clusters:\n",
    "    print(cluster.shape)\n",
    "    display(cluster)"
   ]
  },
  {
   "cell_type": "code",
   "execution_count": 5,
   "metadata": {},
   "outputs": [],
   "source": [
    "def mapas(x):\n",
    "    m = folium.Map(location=[float(clusters[x].latitude[0]), float(clusters[x].longitude[0])], zoom_start=12)\n",
    "    for i in range(len(clusters[x])):\n",
    "        folium.Marker([float(clusters[x].latitude[i]), float(clusters[x].longitude[i])], popup=str(clusters[x].name[i]), \n",
    "                          icon=folium.Icon()).add_to(m)\n",
    "    print('Las empresas ubicadas en {} con un ratio mayor de Startups / Big Company.'.format(clusters[x].city[2]))\n",
    "    m.save('geomap'+str(x)+'.html')\n",
    "    return m"
   ]
  },
  {
   "cell_type": "markdown",
   "metadata": {},
   "source": [
    "Imprimimos los mapas de los clusters y los guardamos. Dado que el tercer y cuarto cluster son iguales los imprimo sólo una vez."
   ]
  },
  {
   "cell_type": "code",
   "execution_count": 6,
   "metadata": {},
   "outputs": [
    {
     "name": "stdout",
     "output_type": "stream",
     "text": [
      "Las empresas ubicadas en Paris con un ratio mayor de Startups / Big Company.\n"
     ]
    },
    {
     "data": {
      "text/html": [
       "<div style=\"width:100%;\"><div style=\"position:relative;width:100%;height:0;padding-bottom:60%;\"><iframe src=\"data:text/html;charset=utf-8;base64,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\" style=\"position:absolute;width:100%;height:100%;left:0;top:0;border:none !important;\" allowfullscreen webkitallowfullscreen mozallowfullscreen></iframe></div></div>"
      ],
      "text/plain": [
       "<folium.folium.Map at 0x7f5f583d0a20>"
      ]
     },
     "execution_count": 6,
     "metadata": {},
     "output_type": "execute_result"
    }
   ],
   "source": [
    "mapas(0)"
   ]
  },
  {
   "cell_type": "code",
   "execution_count": 7,
   "metadata": {},
   "outputs": [
    {
     "name": "stdout",
     "output_type": "stream",
     "text": [
      "Las empresas ubicadas en Dublin con un ratio mayor de Startups / Big Company.\n"
     ]
    },
    {
     "data": {
      "text/html": [
       "<div style=\"width:100%;\"><div style=\"position:relative;width:100%;height:0;padding-bottom:60%;\"><iframe src=\"data:text/html;charset=utf-8;base64,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\" style=\"position:absolute;width:100%;height:100%;left:0;top:0;border:none !important;\" allowfullscreen webkitallowfullscreen mozallowfullscreen></iframe></div></div>"
      ],
      "text/plain": [
       "<folium.folium.Map at 0x7f5f571675f8>"
      ]
     },
     "execution_count": 7,
     "metadata": {},
     "output_type": "execute_result"
    }
   ],
   "source": [
    "mapas(1)"
   ]
  },
  {
   "cell_type": "code",
   "execution_count": 8,
   "metadata": {},
   "outputs": [
    {
     "name": "stdout",
     "output_type": "stream",
     "text": [
      "Las empresas ubicadas en Paris con un ratio mayor de Startups / Big Company.\n"
     ]
    },
    {
     "data": {
      "text/html": [
       "<div style=\"width:100%;\"><div style=\"position:relative;width:100%;height:0;padding-bottom:60%;\"><iframe src=\"data:text/html;charset=utf-8;base64,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\" style=\"position:absolute;width:100%;height:100%;left:0;top:0;border:none !important;\" allowfullscreen webkitallowfullscreen mozallowfullscreen></iframe></div></div>"
      ],
      "text/plain": [
       "<folium.folium.Map at 0x7f5f583d02b0>"
      ]
     },
     "execution_count": 8,
     "metadata": {},
     "output_type": "execute_result"
    }
   ],
   "source": [
    "mapas(2)"
   ]
  },
  {
   "cell_type": "code",
   "execution_count": 9,
   "metadata": {},
   "outputs": [
    {
     "name": "stdout",
     "output_type": "stream",
     "text": [
      "Las empresas ubicadas en Amsterdam con un ratio mayor de Startups / Big Company.\n"
     ]
    },
    {
     "data": {
      "text/html": [
       "<div style=\"width:100%;\"><div style=\"position:relative;width:100%;height:0;padding-bottom:60%;\"><iframe src=\"data:text/html;charset=utf-8;base64,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\" style=\"position:absolute;width:100%;height:100%;left:0;top:0;border:none !important;\" allowfullscreen webkitallowfullscreen mozallowfullscreen></iframe></div></div>"
      ],
      "text/plain": [
       "<folium.folium.Map at 0x7f5f57171fd0>"
      ]
     },
     "execution_count": 9,
     "metadata": {},
     "output_type": "execute_result"
    }
   ],
   "source": [
    "mapas(4)"
   ]
  },
  {
   "cell_type": "markdown",
   "metadata": {},
   "source": [
    "Dado que el primer cluster sólo tiene 2 empresas lo descartamos, quedándonos como opciones: **París**, **Dublín** y **Amsterdam**."
   ]
  },
  {
   "cell_type": "markdown",
   "metadata": {},
   "source": [
    "#### Sin embargo, si tenemos en cuenta que el cluster 2 y el cluster 3 nos han salido dos veces como resultado de la query, podemos decidirnos por esa localización y, por lo tanto, por ubicar a nuestra empresa en el punto medio de las 3 empresas localizadas en **París**."
   ]
  }
 ],
 "metadata": {
  "kernelspec": {
   "display_name": "Python 3",
   "language": "python",
   "name": "python3"
  },
  "language_info": {
   "codemirror_mode": {
    "name": "ipython",
    "version": 3
   },
   "file_extension": ".py",
   "mimetype": "text/x-python",
   "name": "python",
   "nbconvert_exporter": "python",
   "pygments_lexer": "ipython3",
   "version": "3.6.7"
  }
 },
 "nbformat": 4,
 "nbformat_minor": 2
}
